{
 "cells": [
  {
   "cell_type": "markdown",
   "source": [
    "# Estrategias Evolutivas\r\n",
    "## Computacion Evolutiva\r\n",
    "### Eduardo Manuel Ceja Cruz"
   ],
   "metadata": {}
  },
  {
   "cell_type": "code",
   "execution_count": null,
   "source": [
    "# no correr si se tienen las librerias\r\n",
    "!conda install -c fastai fastprogress"
   ],
   "outputs": [],
   "metadata": {}
  },
  {
   "cell_type": "code",
   "execution_count": 1,
   "source": [
    "import math\r\n",
    "import numpy as np\r\n",
    "\r\n",
    "from typing import Tuple, List, Union, Dict\r\n",
    "from random import choices,choice\r\n",
    "from tabulate import tabulate\r\n",
    "from fastprogress.fastprogress import progress_bar"
   ],
   "outputs": [],
   "metadata": {}
  },
  {
   "cell_type": "markdown",
   "source": [
    "La funcion de Ackley esta definida de la siguente manera:\r\n",
    "\r\n",
    "$$\r\n",
    "\\min f(\\vec{x}) = -20exp \\left(-0.2 \\sqrt{\\frac{1}{n} \\sum_{i=1}^n x^2_i} \\right) - exp \\left(\\frac{1}{n}\\sum_{i=1}^n cos(2\\pi x_i) \\right) + 20 + e\r\n",
    "\r\n",
    "$$"
   ],
   "metadata": {}
  },
  {
   "cell_type": "code",
   "execution_count": 2,
   "source": [
    "MAX_DOMAIN = 30\r\n",
    "MIN_DOMAIN = -MAX_DOMAIN"
   ],
   "outputs": [],
   "metadata": {}
  },
  {
   "cell_type": "code",
   "execution_count": 3,
   "source": [
    "def read_input_from_file(filename : str = 'input.txt') -> Tuple[int, int, float, float]:\r\n",
    "    try:\r\n",
    "        with open(filename) as f:\r\n",
    "            lines = f.readlines()\r\n",
    "    \r\n",
    "    except FileNotFoundError:\r\n",
    "        print(f\"El archivo {filename} no fue encontrado\")\r\n",
    "        return\r\n",
    "    \r\n",
    "    except Exception as e:\r\n",
    "        print(f\"Ha occurrido un error {e}\")\r\n",
    "        return\r\n",
    "    \r\n",
    "    n = int(lines.pop(0))\r\n",
    "    mu, g = map(int, lines.pop(0).split())\r\n",
    "    alpha, epsilon = map(float , lines.pop(0).split())\r\n",
    "    return n, mu, g, alpha, epsilon"
   ],
   "outputs": [],
   "metadata": {}
  },
  {
   "cell_type": "code",
   "execution_count": 4,
   "source": [
    "def std(M_list : list, mean : float) -> float:\r\n",
    "    return np.sqrt(sum([(sol_i[-1] - mean)**2 for sol_i in M_list])/len(M_list))"
   ],
   "outputs": [],
   "metadata": {}
  },
  {
   "cell_type": "code",
   "execution_count": 5,
   "source": [
    "def mean(sol_list : list) -> float:\r\n",
    "    return sum([elem[-1] for elem in sol_list])/len(sol_list)"
   ],
   "outputs": [],
   "metadata": {}
  },
  {
   "cell_type": "code",
   "execution_count": 6,
   "source": [
    "def f(x : List[float], n : int) -> float:\r\n",
    "    coso1 = -0.2*np.sqrt(sum([xi**2 for xi in x[:n]])/n)\r\n",
    "    coso2 = (sum([math.cos(2*math.pi*xi) for xi in x[:n]])/n)\r\n",
    "    return -20*math.e**(coso1) -math.e**(coso2) + 20 + math.e"
   ],
   "outputs": [],
   "metadata": {}
  },
  {
   "cell_type": "markdown",
   "source": [
    "## Resolucion con $(1+1)$"
   ],
   "metadata": {}
  },
  {
   "cell_type": "code",
   "execution_count": 7,
   "source": [
    "def generate_initial_solution(n : int):\r\n",
    "    return np.random.uniform(MIN_DOMAIN, MAX_DOMAIN, n)"
   ],
   "outputs": [],
   "metadata": {}
  },
  {
   "cell_type": "code",
   "execution_count": 8,
   "source": [
    "def EE_1_plus_1(n : int, lim_x : List[List[float]], sigma0 : float = 0.5, G : int = 100,  r : int = 20, eps0 : float =0.01, c : float = 0.817):\r\n",
    "    \r\n",
    "    sigma = sigma0\r\n",
    "    xt = generate_initial_solution(n)\r\n",
    "    \r\n",
    "    ft = -f(xt, n) # lo ponemos en menos porque estamos minimizando, en lugar de maximixar\r\n",
    "\r\n",
    "    ms = 0\r\n",
    "    # pb = progress_bar(range(G))\r\n",
    "    for epoch in range(G):\r\n",
    "        counter = 0\r\n",
    "        if counter%r == 0:\r\n",
    "            if ms/r > 1/5:\r\n",
    "                sigma /= c\r\n",
    "            elif ms / r < 1/5:\r\n",
    "                sigma *= c\r\n",
    "\r\n",
    "            if sigma < eps0:\r\n",
    "                sigma = eps0\r\n",
    "            ms = 0\r\n",
    "        counter += 1\r\n",
    "    \r\n",
    "    z = np.random.normal(0, sigma, n)\r\n",
    "    xt_mas_1 = np.add(xt, z)\r\n",
    "    for i in range(n):\r\n",
    "        if xt_mas_1[i] < lim_x[i][0]:\r\n",
    "            xt_mas_1[i] = lim_x[i][0]\r\n",
    "        elif xt_mas_1[i] > lim_x[i][1]:\r\n",
    "            xt_mas_1[i] = lim_x[i][1]\r\n",
    "    \r\n",
    "    ft_mas_1 = -f(xt_mas_1, n) # lo ponemos en menos porque estamos minimizando, en lugar de maximixar\r\n",
    "\r\n",
    "    if ft_mas_1 >= ft:\r\n",
    "        xt = xt_mas_1\r\n",
    "        ft = ft_mas_1\r\n",
    "        ms += 1\r\n",
    "\r\n",
    "    return xt, ft"
   ],
   "outputs": [],
   "metadata": {}
  },
  {
   "cell_type": "markdown",
   "source": [
    "## EStrategia ($\\mu , \\lambda$)"
   ],
   "metadata": {}
  },
  {
   "cell_type": "code",
   "execution_count": 9,
   "source": [
    "def initial_population(mu : int, n : int) -> List[List[float]]:\r\n",
    "    padres = []\r\n",
    "    for i in range(mu):\r\n",
    "        p = np.concatenate((np.random.uniform(MIN_DOMAIN, MAX_DOMAIN, n) ,np.random.uniform(0,1, 1)))\r\n",
    "        p = [p, -f(p, n)] # le ponemos un menos porque estamos minimizando\r\n",
    "        padres.append(p)\r\n",
    "    return padres"
   ],
   "outputs": [],
   "metadata": {}
  },
  {
   "cell_type": "code",
   "execution_count": 10,
   "source": [
    "def cruza(padre_1 : List[float], padre_2 : List[float]):\r\n",
    "    N = len(padre_1)\r\n",
    "\r\n",
    "    z = np.random.uniform(0,1, N)\r\n",
    "    child = np.array([0.] * N)\r\n",
    "\r\n",
    "    for i in range(N):\r\n",
    "        if z[i] < 0.5:\r\n",
    "            child[i] = padre_1[i]\r\n",
    "        else:\r\n",
    "            child[i] = padre_2[i]\r\n",
    "\r\n",
    "    return child"
   ],
   "outputs": [],
   "metadata": {}
  },
  {
   "cell_type": "code",
   "execution_count": 11,
   "source": [
    "def mutacion(i : List[float], n : int, eps0 : float, tao : float):\r\n",
    "    new_sigma = i[-1]*(np.exp(tao*np.random.normal(0,1,1)))\r\n",
    "\r\n",
    "    if new_sigma[0] < eps0 :\r\n",
    "        new_sigma[0] = eps0\r\n",
    "    \r\n",
    "    mutation_x = i[:n] + (new_sigma[0]*np.random.normal(0,1,n))\r\n",
    "\r\n",
    "    mutation_x[mutation_x < MIN_DOMAIN] = MIN_DOMAIN\r\n",
    "    mutation_x[mutation_x > MAX_DOMAIN] = MAX_DOMAIN\r\n",
    "\r\n",
    "    return np.concatenate((mutation_x, new_sigma))"
   ],
   "outputs": [],
   "metadata": {}
  },
  {
   "cell_type": "code",
   "execution_count": 12,
   "source": [
    "def create_individual(padre_1 : List[float], padre_2 : List[float], n : int, eps0 : float, tao : float) -> List[float]:\r\n",
    "    x = cruza(padre_1, padre_2)\r\n",
    "    x = mutacion(x, n, eps0, tao)\r\n",
    "    \r\n",
    "    return[x, -f(x,n)] # le ponemos el menos porque estamos minimizando"
   ],
   "outputs": [],
   "metadata": {}
  },
  {
   "cell_type": "code",
   "execution_count": 13,
   "source": [
    "i1 = [-10.3, 7.84, 0.84]\r\n",
    "i2 = [2.4, -3.84, 0.98]\r\n",
    "create_individual(i1,i2, 2, 1/np.sqrt(2), 0.01)"
   ],
   "outputs": [
    {
     "output_type": "execute_result",
     "data": {
      "text/plain": [
       "[array([-8.14698103, -5.08385834,  0.84263623]), -15.492426950773847]"
      ]
     },
     "metadata": {},
     "execution_count": 13
    }
   ],
   "metadata": {}
  },
  {
   "cell_type": "code",
   "execution_count": 14,
   "source": [
    "def mu_lambda(n : int, G : int = 100, eps0 : float = 0.01, mu : int = 100, lamb : int = 700, tao : float = None):\r\n",
    "\r\n",
    "    if tao is None:\r\n",
    "        tao = 1/np.sqrt(n)\r\n",
    "    \r\n",
    "    poblacion = initial_population(mu, n)\r\n",
    "    index = range(mu)\r\n",
    "    \r\n",
    "    # pb = progress_bar(range(G))\r\n",
    "    for epoch in range(G):\r\n",
    "        hijos = []\r\n",
    "        for i in range(lamb):\r\n",
    "            padres = choices(index, k=2)\r\n",
    "            padre_1 = poblacion[padres[0]][0]\r\n",
    "            padre_2 = poblacion[padres[1]][0]\r\n",
    "            hijo = create_individual(padre_1, padre_2, n, eps0, tao)\r\n",
    "            hijos.append(hijo)\r\n",
    "        \r\n",
    "        hijos = sorted(hijos, key = lambda x : x[-1], reverse=True)\r\n",
    "        poblacion = hijos[:mu].copy()\r\n",
    "    \r\n",
    "    return poblacion[0][0], -poblacion[0][1]"
   ],
   "outputs": [],
   "metadata": {}
  },
  {
   "cell_type": "code",
   "execution_count": 15,
   "source": [
    "mu_lambda(2, 100)"
   ],
   "outputs": [
    {
     "output_type": "execute_result",
     "data": {
      "text/plain": [
       "(array([-0.00091883,  0.00059321,  0.01      ]), 0.0031252545631947903)"
      ]
     },
     "metadata": {},
     "execution_count": 15
    }
   ],
   "metadata": {}
  },
  {
   "cell_type": "markdown",
   "source": [
    "## Estrategia $(\\mu + \\lambda)$"
   ],
   "metadata": {}
  },
  {
   "cell_type": "code",
   "execution_count": 16,
   "source": [
    "def mu_mas_lambda(n : int, G : int = 100, eps0 : float = 0.01, mu : int = 100, lamb: int = 700, tao : float = None):\r\n",
    "\r\n",
    "    if tao is None:\r\n",
    "        tao = 1/np.sqrt(n)\r\n",
    "\r\n",
    "    poblacion = initial_population(mu, n)\r\n",
    "    index = range(mu)\r\n",
    "    # pb = progress_bar(range(G))\r\n",
    "    for epoch in range(G):\r\n",
    "        hijos = []\r\n",
    "        for i in range(lamb):\r\n",
    "            padres = choices(index, k=2)\r\n",
    "            padre_1 = poblacion[padres[0]][0]\r\n",
    "            padre_2 = poblacion[padres[1]][0]\r\n",
    "            hijo = create_individual(padre_1, padre_2, n, eps0, tao)\r\n",
    "            hijos.append(hijo)\r\n",
    "        \r\n",
    "        poblacion.extend(hijos)\r\n",
    "        poblacion = sorted(poblacion, key = lambda x : x[-1], reverse = True)\r\n",
    "        poblacion = poblacion[:mu]\r\n",
    "        # pb.comment(f'best sol : {poblacion[0][-1]}')\r\n",
    "    return poblacion[0][0], -poblacion[0][1]"
   ],
   "outputs": [],
   "metadata": {}
  },
  {
   "cell_type": "code",
   "execution_count": 17,
   "source": [
    "mu_mas_lambda(2,100)"
   ],
   "outputs": [
    {
     "output_type": "execute_result",
     "data": {
      "text/plain": [
       "(array([ 2.54543669e-05, -1.99570810e-05,  1.00000000e-02]),\n",
       " 9.151380877314708e-05)"
      ]
     },
     "metadata": {},
     "execution_count": 17
    }
   ],
   "metadata": {}
  },
  {
   "cell_type": "markdown",
   "source": [
    "## Parte Estadistica"
   ],
   "metadata": {}
  },
  {
   "cell_type": "code",
   "execution_count": 18,
   "source": [
    "def parse_1_m_1_EE_params(params : dict) -> Tuple[Dict[str, Union[float, int]], Dict[str, Union[float, int]]]:\r\n",
    "    ee1_m_1_params = {}\r\n",
    "    \r\n",
    "    ee1_m_1_params['n'] = params['n']\r\n",
    "    \r\n",
    "    if 'eps0' in params:\r\n",
    "        ee1_m_1_params['eps0'] = params['eps0']\r\n",
    "\r\n",
    "    if 'sigma0' in params:\r\n",
    "        ee1_m_1_params['sigma0'] = params['sigma0']\r\n",
    "    if 'G' in params:\r\n",
    "        ee1_m_1_params['G'] = params['G']\r\n",
    "    if 'r' in params:\r\n",
    "        ee1_m_1_params['r'] = params.pop('r')\r\n",
    "    if 'c' in params:\r\n",
    "        ee1_m_1_params['c'] = params.pop('c')\r\n",
    "    \r\n",
    "    return ee1_m_1_params, params"
   ],
   "outputs": [],
   "metadata": {}
  },
  {
   "cell_type": "code",
   "execution_count": 19,
   "source": [
    "def format_data(data : list, columns  : List[str] = ['Estrategia Evolutiva','Mejor Solucion', 'Peor Solucion', 'Media', 'Mediana','Desviacion Estandar']) -> str:\r\n",
    "    return tabulate(data, headers=columns)"
   ],
   "outputs": [],
   "metadata": {}
  },
  {
   "cell_type": "code",
   "execution_count": 24,
   "source": [
    "def statdistical(M : int, ee1_m_1_lim_x : List[List[float]], **kwargs) -> Union[str, Tuple[str, list, list, list]]:\r\n",
    "    params = kwargs\r\n",
    "    return_sols = False\r\n",
    "    if 'n' not in params:\r\n",
    "        params['n'] = 2\r\n",
    "    \r\n",
    "    if 'return_sols' in params:\r\n",
    "        return_sols = params.pop('return_sols')\r\n",
    "    ee1_m_1_params, params = parse_1_m_1_EE_params(params)\r\n",
    "    ee1_m_1_params['lim_x'] = ee1_m_1_lim_x\r\n",
    "    sols_EE1 = []\r\n",
    "    sols_EE2 = []\r\n",
    "    sols_EE3 = []\r\n",
    "\r\n",
    "    # print(params, ee1_m_1_params)\r\n",
    "    pb = progress_bar(range(M))\r\n",
    "    for epoch in pb:\r\n",
    "        sols_EE1.append(EE_1_plus_1(**ee1_m_1_params))\r\n",
    "        sols_EE2.append(mu_lambda(**params))\r\n",
    "        sols_EE3.append(mu_mas_lambda(**params))\r\n",
    "    \r\n",
    "    sols_EE1 = sorted(sols_EE1, key= lambda x : x[-1], reverse=True)\r\n",
    "    sols_EE2 = sorted(sols_EE2, key= lambda x : x[-1], reverse=True)\r\n",
    "    sols_EE3 = sorted(sols_EE3, key= lambda x : x[-1], reverse=True)\r\n",
    "\r\n",
    "    mean_1 = mean(sols_EE1)\r\n",
    "    mean_2 = mean(sols_EE2)\r\n",
    "    mean_3 = mean(sols_EE3)\r\n",
    "\r\n",
    "    besto_and_worse_sols  = [['EE 1 + 1', sols_EE1[0][0], sols_EE1[-1][0], round(mean(sols_EE1)), sols_EE1[len(sols_EE1)//2][0], np.round(std(sols_EE1, mean_1), decimals = 4)],\r\n",
    "                             ['EE mu, lambda', sols_EE2[0][0], sols_EE2[-1][0], np.round(mean(sols_EE2), decimals= 4), sols_EE2[len(sols_EE2)//2][0], np.round(std(sols_EE2, mean_2), decimals = 4)],\r\n",
    "                             ['EE mu + lambda', sols_EE3[0][0], sols_EE3[-1][0], round(mean(sols_EE3)), sols_EE3[len(sols_EE3)//2][0], np.round(std(sols_EE3, mean_3), decimals = 4)],\r\n",
    "                            ]\r\n",
    "\r\n",
    "    return_tuple = [format_data(besto_and_worse_sols)]\r\n",
    "    if return_sols:\r\n",
    "        return_tuple.append(sols_EE1)\r\n",
    "        return_tuple.append(sols_EE2)\r\n",
    "        return_tuple.append(sols_EE3)\r\n",
    "    \r\n",
    "    return tuple(return_tuple)\r\n"
   ],
   "outputs": [],
   "metadata": {}
  },
  {
   "cell_type": "markdown",
   "source": [
    "Analisis con $n = 2$ y demas valores default"
   ],
   "metadata": {}
  },
  {
   "cell_type": "code",
   "execution_count": 25,
   "source": [
    "print(statdistical(20, [[MIN_DOMAIN,MAX_DOMAIN], [0,10]]))"
   ],
   "outputs": [
    {
     "output_type": "display_data",
     "data": {
      "text/plain": [
       "<IPython.core.display.HTML object>"
      ],
      "text/html": [
       "\n",
       "    <div>\n",
       "        <style>\n",
       "            /* Turns off some styling */\n",
       "            progress {\n",
       "                /* gets rid of default border in Firefox and Opera. */\n",
       "                border: none;\n",
       "                /* Needs to be in here for Safari polyfill so background images work as expected. */\n",
       "                background-size: auto;\n",
       "            }\n",
       "            .progress-bar-interrupted, .progress-bar-interrupted::-webkit-progress-bar {\n",
       "                background: #F44336;\n",
       "            }\n",
       "        </style>\n",
       "      <progress value='20' class='' max='20' style='width:300px; height:20px; vertical-align: middle;'></progress>\n",
       "      100.00% [20/20 03:17<00:00]\n",
       "    </div>\n",
       "    "
      ]
     },
     "metadata": {}
    },
    {
     "output_type": "stream",
     "name": "stdout",
     "text": [
      "Estrategia Evolutiva    Mejor Solucion                                     Peor Solucion                                         Media  Mediana                                              Desviacion Estandar\n",
      "----------------------  -------------------------------------------------  -------------------------------------------------  --------  -------------------------------------------------  ---------------------\n",
      "EE 1 + 1                [-1.47406378  1.42175158]                          [28.49438125  0.        ]                          -18       [11.78654648  3.69441043]                                         3.0064\n",
      "EE mu, lambda           [ 0.00071056 -0.0012165   0.01      ]              [ 2.26657053e-04 -7.52959046e-05  1.00000000e-02]    0.0017  [ 0.00039891 -0.00040984  0.01      ]                             0.0008\n",
      "EE mu + lambda          [ 9.78960965e-05 -2.07871862e-04  1.00000000e-02]  [-3.26732111e-06  1.15651434e-05  1.00000000e-02]    0       [ 3.50809693e-05 -1.47650131e-06  1.09987011e-02]                 0.0001\n"
     ]
    }
   ],
   "metadata": {}
  },
  {
   "cell_type": "markdown",
   "source": [
    "Analisis con $n = 5$"
   ],
   "metadata": {}
  },
  {
   "cell_type": "code",
   "execution_count": 26,
   "source": [
    "print(statdistical(M = 20,  ee1_m_1_lim_x = [[MIN_DOMAIN,MAX_DOMAIN]] * 5, n = 5))"
   ],
   "outputs": [
    {
     "output_type": "display_data",
     "data": {
      "text/plain": [
       "<IPython.core.display.HTML object>"
      ],
      "text/html": [
       "\n",
       "    <div>\n",
       "        <style>\n",
       "            /* Turns off some styling */\n",
       "            progress {\n",
       "                /* gets rid of default border in Firefox and Opera. */\n",
       "                border: none;\n",
       "                /* Needs to be in here for Safari polyfill so background images work as expected. */\n",
       "                background-size: auto;\n",
       "            }\n",
       "            .progress-bar-interrupted, .progress-bar-interrupted::-webkit-progress-bar {\n",
       "                background: #F44336;\n",
       "            }\n",
       "        </style>\n",
       "      <progress value='20' class='' max='20' style='width:300px; height:20px; vertical-align: middle;'></progress>\n",
       "      100.00% [20/20 03:31<00:00]\n",
       "    </div>\n",
       "    "
      ]
     },
     "metadata": {}
    },
    {
     "output_type": "stream",
     "name": "stdout",
     "text": [
      "Estrategia Evolutiva    Mejor Solucion                                                             Peor Solucion                                                                 Media  Mediana                                                                      Desviacion Estandar\n",
      "----------------------  -------------------------------------------------------------------------  -------------------------------------------------------------------------  --------  -------------------------------------------------------------------------  ---------------------\n",
      "EE 1 + 1                [10.38684492 -7.20456615  8.33945548 12.09203025  3.34276229]              [-21.55238655 -28.73130289  14.5879361  -24.605992     5.5771974 ]         -21       [ -8.45301307  15.44908906  -3.36897146   6.35734743 -26.20952888]                        0.7037\n",
      "EE mu, lambda           [ 5.93291212e-03 -1.58144666e-05 -5.45882555e-03  2.84208016e-03           [-0.00010189  0.0019106  -0.00112411 -0.00034555 -0.0001206   0.01      ]    0.0111  [-0.00252742 -0.0014502   0.00197389  0.00313332 -0.00355054  0.01      ]                 0.0026\n",
      "                          4.80789889e-04  1.00000000e-02]\n",
      "EE mu + lambda          [-0.0003571  -0.00046818 -0.00082166  0.00216664 -0.001517    0.01184659]  [-2.85492745e-04 -8.70606720e-05 -5.46203253e-06  6.89136500e-04             0       [-0.00144791  0.00041878  0.00077282 -0.00104477  0.00023672  0.01      ]                 0.0009\n",
      "                                                                                                     2.60073992e-04  1.00000000e-02]\n"
     ]
    }
   ],
   "metadata": {}
  },
  {
   "cell_type": "markdown",
   "source": [
    "Analisis con $n = 7$"
   ],
   "metadata": {}
  },
  {
   "cell_type": "code",
   "execution_count": 27,
   "source": [
    "print(statdistical(M = 20, ee1_m_1_lim_x=[[MIN_DOMAIN, MAX_DOMAIN]] * 7,  n = 7))"
   ],
   "outputs": [
    {
     "output_type": "display_data",
     "data": {
      "text/plain": [
       "<IPython.core.display.HTML object>"
      ],
      "text/html": [
       "\n",
       "    <div>\n",
       "        <style>\n",
       "            /* Turns off some styling */\n",
       "            progress {\n",
       "                /* gets rid of default border in Firefox and Opera. */\n",
       "                border: none;\n",
       "                /* Needs to be in here for Safari polyfill so background images work as expected. */\n",
       "                background-size: auto;\n",
       "            }\n",
       "            .progress-bar-interrupted, .progress-bar-interrupted::-webkit-progress-bar {\n",
       "                background: #F44336;\n",
       "            }\n",
       "        </style>\n",
       "      <progress value='20' class='' max='20' style='width:300px; height:20px; vertical-align: middle;'></progress>\n",
       "      100.00% [20/20 03:41<00:00]\n",
       "    </div>\n",
       "    "
      ]
     },
     "metadata": {}
    },
    {
     "output_type": "stream",
     "name": "stdout",
     "text": [
      "Estrategia Evolutiva    Mejor Solucion                                                            Peor Solucion                                                                Media  Mediana                                                                     Desviacion Estandar\n",
      "----------------------  ------------------------------------------------------------------------  ------------------------------------------------------------------------  --------  ------------------------------------------------------------------------  ---------------------\n",
      "EE 1 + 1                [-17.86713021 -16.98406815 -26.99950226  -6.10129346 -29.27077386         [ -0.44598746   5.61759554 -28.7110843   22.6048886   29.34557573         -21       [  5.59974494 -21.14336066  17.76964424  22.62107275 -15.3190632                         0.2321\n",
      "                         -25.17993066 -22.27099027]                                                 10.01969193  19.41985065]                                                            1.51435607 -20.76863553]\n",
      "EE mu, lambda           [-8.66444021e-04  3.51730907e-03 -2.49071004e-05  1.02524280e-02          [ 0.00216185 -0.00260669  0.0017536   0.00103696  0.00089817  0.00552446    0.0176  [ 0.00814288 -0.00057665  0.00123275  0.0019953   0.00088081  0.00491431                 0.0031\n",
      "                          6.90537518e-03  3.04029453e-03  5.22128352e-03  1.05070749e-02]          -0.00213674  0.01      ]                                                            -0.00406193  0.01555968]\n",
      "EE mu + lambda          [ 0.00535317 -0.00255586  0.00177275 -0.00091289 -0.0004008  -0.00054529  [-0.00196268 -0.00036293  0.00085786 -0.00027308  0.00050578  0.00199723    0       [-0.00390786  0.00096377  0.00095839 -0.00076967  0.0006821   0.00229902                 0.0012\n",
      "                          0.0007633   0.0124466 ]                                                   0.00039402  0.01051816]                                                            -0.00079098  0.01251627]\n"
     ]
    }
   ],
   "metadata": {}
  },
  {
   "cell_type": "markdown",
   "source": [
    "Analisis $n = 10$"
   ],
   "metadata": {}
  },
  {
   "cell_type": "code",
   "execution_count": 28,
   "source": [
    "print(statdistical(M = 20, ee1_m_1_lim_x=[[MIN_DOMAIN,MAX_DOMAIN]] * 10, n = 10))"
   ],
   "outputs": [
    {
     "output_type": "display_data",
     "data": {
      "text/plain": [
       "<IPython.core.display.HTML object>"
      ],
      "text/html": [
       "\n",
       "    <div>\n",
       "        <style>\n",
       "            /* Turns off some styling */\n",
       "            progress {\n",
       "                /* gets rid of default border in Firefox and Opera. */\n",
       "                border: none;\n",
       "                /* Needs to be in here for Safari polyfill so background images work as expected. */\n",
       "                background-size: auto;\n",
       "            }\n",
       "            .progress-bar-interrupted, .progress-bar-interrupted::-webkit-progress-bar {\n",
       "                background: #F44336;\n",
       "            }\n",
       "        </style>\n",
       "      <progress value='20' class='' max='20' style='width:300px; height:20px; vertical-align: middle;'></progress>\n",
       "      100.00% [20/20 03:57<00:00]\n",
       "    </div>\n",
       "    "
      ]
     },
     "metadata": {}
    },
    {
     "output_type": "stream",
     "name": "stdout",
     "text": [
      "Estrategia Evolutiva    Mejor Solucion                                                            Peor Solucion                                                          Media  Mediana                                                                     Desviacion Estandar\n",
      "----------------------  ------------------------------------------------------------------------  ------------------------------------------------------------------  --------  ------------------------------------------------------------------------  ---------------------\n",
      "EE 1 + 1                [ -2.12449469 -24.47399217   2.16406733  12.81930746   8.40973418         [-13.93663952  21.43816865  29.61403911  11.49315178  15.82400515   -21       [-29.12970449 -28.27571169  -0.12677957  10.70780987 -10.16635705                        0.4967\n",
      "                         -11.28038218  15.84081489  14.83081442  -5.91793083   6.68854609]         -25.48720726 -29.13007453   8.65325087  -9.69442211 -17.57964986]              12.16883817  22.0797585  -25.95319316 -21.27953141  -1.60187327]\n",
      "EE mu, lambda           [ 0.0048324   0.00713004 -0.0002871  -0.00258696  0.00243982  0.00927336  [ 2.19306901e-03  3.79955513e-03 -3.56559738e-05 -5.46900847e-04      0.0242  [-0.00509647 -0.01085038 -0.00207107 -0.00804579  0.00729546 -0.00203933                 0.0045\n",
      "                          0.00212533  0.0140541   0.00453391  0.00979442  0.01086499]              -3.79216095e-03  4.37607594e-03  1.23526033e-03 -1.36459786e-03                0.00308684 -0.00569911  0.000885    0.00362386  0.01      ]\n",
      "                                                                                                    7.71757656e-04 -9.03320313e-03  1.00000000e-02]\n",
      "EE mu + lambda          [ 3.54731689e-03 -6.51832301e-05  3.31334187e-03  4.16814869e-03          [-2.33213322e-03 -1.17640933e-04  3.46489336e-03  4.27406806e-03      0       [ 0.00242084  0.00158984 -0.00503219 -0.00221708  0.0012019  -0.0036914                  0.0011\n",
      "                          3.31260733e-04 -4.84480571e-03 -1.94561689e-03 -1.36907802e-03            1.89530767e-03  6.93386987e-04 -1.66486023e-03  2.16598481e-03                0.0036904  -0.0031243   0.00255074  0.00215907  0.01      ]\n",
      "                          5.80119386e-03  2.77440512e-03  1.00000000e-02]                          -4.24358637e-06 -1.94857398e-03  1.00000000e-02]\n"
     ]
    }
   ],
   "metadata": {}
  },
  {
   "cell_type": "markdown",
   "source": [
    "Analisis $n = 20$"
   ],
   "metadata": {}
  },
  {
   "cell_type": "code",
   "execution_count": 29,
   "source": [
    "print(statdistical(M = 20, ee1_m_1_lim_x=[[MIN_DOMAIN,MAX_DOMAIN]] * 20, n = 20))"
   ],
   "outputs": [
    {
     "output_type": "display_data",
     "data": {
      "text/plain": [
       "<IPython.core.display.HTML object>"
      ],
      "text/html": [
       "\n",
       "    <div>\n",
       "        <style>\n",
       "            /* Turns off some styling */\n",
       "            progress {\n",
       "                /* gets rid of default border in Firefox and Opera. */\n",
       "                border: none;\n",
       "                /* Needs to be in here for Safari polyfill so background images work as expected. */\n",
       "                background-size: auto;\n",
       "            }\n",
       "            .progress-bar-interrupted, .progress-bar-interrupted::-webkit-progress-bar {\n",
       "                background: #F44336;\n",
       "            }\n",
       "        </style>\n",
       "      <progress value='20' class='' max='20' style='width:300px; height:20px; vertical-align: middle;'></progress>\n",
       "      100.00% [20/20 04:45<00:00]\n",
       "    </div>\n",
       "    "
      ]
     },
     "metadata": {}
    },
    {
     "output_type": "stream",
     "name": "stdout",
     "text": [
      "Estrategia Evolutiva    Mejor Solucion                                                      Peor Solucion                                                                Media  Mediana                                                                     Desviacion Estandar\n",
      "----------------------  ------------------------------------------------------------------  ------------------------------------------------------------------------  --------  ------------------------------------------------------------------------  ---------------------\n",
      "EE 1 + 1                [ -6.49316983 -20.3991588  -22.05454188   5.79614485  -3.76606947   [-26.82403011 -22.59934181  29.53041756 -14.2934109  -24.02531175         -21       [ -1.89174765 -19.81151801  11.36588012   5.32952651   4.40066933                        0.2546\n",
      "                           4.95575518 -21.63091251 -15.66661625   7.07355409  18.68687475    -21.6918728  -18.00150806 -20.71178429  15.59379053 -23.15950847                     -7.8376349   16.57678616 -27.74217699  -3.54853415 -26.68689768\n",
      "                           0.22048308 -27.95895485  -2.19170667 -15.60590579  18.20106168    -24.67341234 -16.08199383  -7.01727619 -18.48570756  29.79626468                     -2.40508295  11.01210999   6.20963368 -18.22475811  22.758425\n",
      "                           7.16601179   7.15906799  12.98400408   7.97417224  21.71216206]    -7.33542483 -20.70733192  27.29020939  14.23665326 -25.04904176]                   -29.95154857 -21.79512509 -10.33215606  20.51379081  17.55698505]\n",
      "EE mu, lambda           [-2.04392884e-03 -9.14053905e-01  7.86878331e-03  4.61896115e-04    [ 0.00572951 -0.00138072 -0.00081657  0.02492404 -0.01430929 -0.00356699    0.1235  [ 1.43415208e-04 -7.54402393e-03 -1.84275192e-02 -5.54831710e-03                         0.3503\n",
      "                          5.06553016e-03 -1.05754659e-03 -2.66209557e-03 -4.58902960e-03      0.00104257  0.00541529 -0.01365261 -0.00182901 -0.00220185  0.00141563             -5.44452104e-03 -9.27752606e-03 -2.26417230e-04 -2.74013926e-03\n",
      "                          5.38873180e-03 -1.19644913e-02 -1.53351233e-02  6.75217410e-03      0.00279082 -0.00757028 -0.00395057 -0.00779724  0.00028243  0.00354128              4.63113908e-03  1.24943502e-03  1.81620424e-02  2.10525069e-02\n",
      "                          9.08117846e-01  1.58454277e-02 -1.36249518e-02  5.89405420e-03      0.00671961 -0.00356341  0.01      ]                                                 1.41046699e-02 -4.08734694e-03  1.14201916e-02  3.54883336e-05\n",
      "                         -9.04131557e-01 -9.00973563e-01  4.90397403e-03 -1.18040006e-03                                                                                          2.67686319e-03 -8.90484014e-03  1.72969865e-03  3.81005981e-03\n",
      "                          1.00000000e-02]                                                                                                                                         1.00000000e-02]\n",
      "EE mu + lambda          [-6.21482471e-03 -1.16944850e-03 -9.04306061e-01  7.88160395e-03    [-0.01189511  0.00562664  0.00173921 -0.0028927  -0.00266199 -0.00424801    0       [-0.00024148 -0.00241888  0.01227907 -0.00072479 -0.00346156 -0.00208108                 0.4202\n",
      "                          3.17949899e-04  4.64348616e-04 -8.99469707e-01 -5.46620706e-03      0.00174328  0.00089175  0.00860367 -0.00088268  0.0036422   0.00412729              0.00347809  0.00753274  0.00103157 -0.00064769  0.00880604 -0.00131393\n",
      "                          3.14659859e-04 -5.03746492e-03  1.27005767e-02 -7.19821533e-03     -0.00043455  0.00205055 -0.00221342  0.00439499 -0.00515097  0.00478343             -0.00747918  0.00582294  0.00174398  0.00190572 -0.00663978 -0.00566184\n",
      "                          1.35533108e-03 -2.99305169e-03  1.45655263e-02  5.64295518e-04     -0.00207207 -0.00607169  0.01      ]                                                -0.00694391 -0.01211044  0.01      ]\n",
      "                          9.13132900e-01  1.67897480e-04 -2.32917617e-03  2.20321834e-03\n",
      "                          1.00000000e-02]\n"
     ]
    }
   ],
   "metadata": {}
  },
  {
   "cell_type": "code",
   "execution_count": null,
   "source": [],
   "outputs": [],
   "metadata": {}
  }
 ],
 "metadata": {
  "orig_nbformat": 4,
  "language_info": {
   "name": "python",
   "version": "3.8.11",
   "mimetype": "text/x-python",
   "codemirror_mode": {
    "name": "ipython",
    "version": 3
   },
   "pygments_lexer": "ipython3",
   "nbconvert_exporter": "python",
   "file_extension": ".py"
  },
  "kernelspec": {
   "name": "python3",
   "display_name": "Python 3.8.11 64-bit (conda)"
  },
  "interpreter": {
   "hash": "42f260a5848e26e2484eadb7f23ab4314fdc495b87f0c1802e49890ba9456f09"
  }
 },
 "nbformat": 4,
 "nbformat_minor": 2
}
