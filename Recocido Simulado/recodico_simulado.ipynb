{
 "metadata": {
  "language_info": {
   "codemirror_mode": {
    "name": "ipython",
    "version": 3
   },
   "file_extension": ".py",
   "mimetype": "text/x-python",
   "name": "python",
   "nbconvert_exporter": "python",
   "pygments_lexer": "ipython3",
   "version": "3.7.4-final"
  },
  "orig_nbformat": 2,
  "kernelspec": {
   "name": "python3",
   "display_name": "Python 3.7.4 64-bit (conda)",
   "metadata": {
    "interpreter": {
     "hash": "42f260a5848e26e2484eadb7f23ab4314fdc495b87f0c1802e49890ba9456f09"
    }
   }
  }
 },
 "nbformat": 4,
 "nbformat_minor": 2,
 "cells": [
  {
   "source": [
    "# Recocido simulado\n",
    "## Computo Evolutivo\n",
    "### Eduardo Manuel Ceja Cruz\n",
    "\n",
    "Resolver el problema de la Mochila con el metodo de Recocido Simulado\n",
    "\n",
    "$$\n",
    "\\text{Maximixar} f(\\vec{x}) = \\sum_{i=1}^n p_i \\cdot  x_i \\\\\n",
    "\\text{tal que } g_1(\\vec{x}) = \\sum_{i = 1}^n w_i \\cdot  x_i  \\leq c\\\\\n",
    "x_i \\in \\{0,1\\}, i \\in \\{1,\\dots, n\\}\n",
    "$$\n",
    "donde $p_i$ y $w_i$ son el valor y el peso del objeto $i$ respectivamente, $n$ es el numero de objetos y $c$ el peso que puede soportar la mochila."
   ],
   "cell_type": "markdown",
   "metadata": {}
  },
  {
   "cell_type": "code",
   "execution_count": 1,
   "metadata": {},
   "outputs": [],
   "source": [
    "import copy\n",
    "import random\n",
    "import math\n",
    "import numpy as np\n",
    "\n",
    "from typing import Tuple"
   ]
  },
  {
   "cell_type": "code",
   "execution_count": 2,
   "metadata": {},
   "outputs": [],
   "source": [
    "def mediana(M_sols) -> list:\n",
    "    if len(M_sols)%2==0:\n",
    "        indexes = (int(len(M_sols)/2), (int(len(M_sols)/2) +1))\n",
    "        return M_sols[indexes[0]], M_sols[indexes[1]]\n",
    "    else:\n",
    "        indexes = len(M_sols)//2\n",
    "        return M_sols[indexes]"
   ]
  },
  {
   "cell_type": "code",
   "execution_count": 3,
   "metadata": {},
   "outputs": [],
   "source": [
    "def std(M_list: list, mean: float) -> float:\n",
    "    return np.sqrt(sum([(sol_i - mean)**2 for sol_i in M_list])/len(M_list))"
   ]
  },
  {
   "cell_type": "code",
   "execution_count": 4,
   "metadata": {},
   "outputs": [],
   "source": [
    "def f(mochila: list, p: list) -> float:\n",
    "    \"\"\"\n",
    "    Calulates the value of the backpack\n",
    "\n",
    "    Paramenters\n",
    "    --------------\n",
    "    mochila : `list` the backpack to evaluate\n",
    "    p       : `list` the list of values of the items\n",
    "\n",
    "\n",
    "    Returns\n",
    "    ------------\n",
    "    `float` the value of the backpack\n",
    "    \"\"\"\n",
    "    return sum([mi * pi for (mi,pi) in zip(mochila, p)])"
   ]
  },
  {
   "cell_type": "code",
   "execution_count": 5,
   "metadata": {},
   "outputs": [],
   "source": [
    "def g(mochila : list, w : list) -> float:\n",
    "    \"\"\"\n",
    "    Calculates the weight of the backpack\n",
    "    \n",
    "    Parameters\n",
    "    --------------\n",
    "    mochila : `list` the backpack to evaluate\n",
    "    w       : `list` the list of weights of the items\n",
    "\n",
    "    Returns\n",
    "    -------------\n",
    "    `float` the weight of the backpack\n",
    "    \"\"\"\n",
    "    return sum([mi * wi for (mi,wi) in zip(mochila, w)])"
   ]
  },
  {
   "cell_type": "code",
   "execution_count": 6,
   "metadata": {},
   "outputs": [],
   "source": [
    "def T(t : float) ->  float:\n",
    "    \"\"\"\n",
    "    Calculates the temperature\n",
    "\n",
    "    Parameters\n",
    "    ------------\n",
    "    t : `float`\n",
    "\n",
    "    Returns\n",
    "    ----------\n",
    "    `float` the next value of t\n",
    "    \"\"\"\n",
    "    # return 0.99*t # con esto siempre encuentra el optimo por alguna razon quien sabe, supongo que es porque como disminuye menos, hace mas iteraciones y provoca que encuetre el optimo\n",
    "    return 0.9*t # esta ya le varia a la soluicion que encuentra\n"
   ]
  },
  {
   "cell_type": "code",
   "execution_count": 7,
   "metadata": {},
   "outputs": [],
   "source": [
    "def read_input(filename) -> Tuple[float, float, int, int, list]:\n",
    "    \"\"\"\n",
    "    Function to read the input from a file provided\n",
    "\n",
    "    Parameters\n",
    "    ---------------\n",
    "    filename : `str` the absolute or relative path to the file\n",
    "\n",
    "    Returns\n",
    "    ---------------\n",
    "\n",
    "    A tuple with the following elements in order:\n",
    "\n",
    "    ti    : `float` the initial temperature\n",
    "    tf    : `float` the target temperature\n",
    "    N     : `int` the number of items\n",
    "    c     : `int` the capacity of the backpack\n",
    "    items : `list` the list of size `N` containing the value and weigth of every item\n",
    "    \"\"\"\n",
    "    try:\n",
    "        with open(filename) as f:\n",
    "            lines = f.readlines()\n",
    "    except FileNotFoundError:\n",
    "        print(\"Archivo no encontrado\")\n",
    "        return\n",
    "    \n",
    "    ti,tf = map(float,lines.pop(0).split())\n",
    "    N = int(lines.pop(0))\n",
    "    c = float(lines.pop(0))\n",
    "    items = []\n",
    "    for i in range(N):\n",
    "        p,w = map(float,lines.pop(0).split())\n",
    "        items.append((p,w))\n",
    "\n",
    "    return ti,tf,N,c,items"
   ]
  },
  {
   "cell_type": "code",
   "execution_count": 8,
   "metadata": {},
   "outputs": [],
   "source": [
    "def initial_sol(N : int,items : list,c : float) -> list:\n",
    "    \"\"\"\n",
    "    Generates the initial solution\n",
    "\n",
    "    Parameters\n",
    "    -------------\n",
    "    N     : `int` The number of items\n",
    "    items : `list` The list of the items\n",
    "    c     : `float` The max capacity of the backpack\n",
    "\n",
    "    Returns\n",
    "    ----------\n",
    "    initial_sol : `list` a list of 0's and 1's indicating which item is present in the current backpack\n",
    "    \"\"\"\n",
    "    initial_sol = [random.randint(0,1) for _ in range(N)]\n",
    "    w = [_[1] for _ in items]\n",
    "    cost = g(initial_sol, w)\n",
    "    while cost >= c:\n",
    "        initial_sol = [random.randint(0,1) for _ in range(N)]\n",
    "        cost = g(initial_sol, w)\n",
    "    return initial_sol"
   ]
  },
  {
   "cell_type": "code",
   "execution_count": 9,
   "metadata": {},
   "outputs": [],
   "source": [
    "def generate_neighborhood(mochila : list, c : float, items : list) -> list:\n",
    "    \"\"\"\n",
    "    Generates the neighborhood for simulated annealing\n",
    "\n",
    "    Parameters\n",
    "    -----------\n",
    "    mochila : `list` the backpack\n",
    "    c       : `float` the capacity of the backpack\n",
    "    items   : `list` the list of weigths and values of the items\n",
    "\n",
    "\n",
    "    Returns\n",
    "    ---------\n",
    "    `list` A list containing the neighborhood\n",
    "    \"\"\"\n",
    "    neighborhood = []\n",
    "    w = [_[1] for _ in items]\n",
    "    mochila_aux = copy.copy(mochila)\n",
    "    for i in range(len(mochila)):\n",
    "        if mochila_aux[i] == 0:\n",
    "            mochila_aux[i] = 1\n",
    "        else:\n",
    "            mochila_aux[i] = 0\n",
    "        cost = g(mochila_aux, w)\n",
    "        if cost <= c:\n",
    "            neighborhood.append(mochila_aux)\n",
    "        \n",
    "        mochila_aux = copy.copy(mochila)\n",
    "        \n",
    "    return neighborhood"
   ]
  },
  {
   "cell_type": "code",
   "execution_count": 10,
   "metadata": {},
   "outputs": [],
   "source": [
    "def get_items(sol : list) -> list:\n",
    "    \"\"\"\n",
    "    Returns the index of the items that are in the backpack\n",
    "\n",
    "    Parameters\n",
    "    -----------\n",
    "    sol : `list` the backpack to get the indexes from\n",
    "\n",
    "    Returns\n",
    "    -----------\n",
    "    `list` A list containing the indexes\n",
    "    \"\"\"\n",
    "    return [i for i in range(len(sol)) if sol[i] != 0]"
   ]
  },
  {
   "source": [
    "La implementacion de abajo, esta basada en una parte de la implementacion que se incluye en el material complementario"
   ],
   "cell_type": "markdown",
   "metadata": {}
  },
  {
   "source": [
    "def recocido_simulado(ti : float, tf : float, N : int, c :float, items : list) -> Tuple[list, list, float, float]:\n",
    "    \"\"\"\n",
    "    perfomrs simulated annealing\n",
    "\n",
    "    Parameters\n",
    "    ------------\n",
    "    ti    : `float` the initial temperature\n",
    "    tf    : `float` the target temperature\n",
    "    N     : `int` The number of items\n",
    "    c     : `float` the capacity of the backpack\n",
    "    items : `list` the list of wights and values of the items\n",
    "\n",
    "    Returns\n",
    "    -------------\n",
    "    Tuple with the following objects \n",
    "    `list` a list with the indexes of the items included in the backpack\n",
    "    x_besto: `list` The best solution found by simulated annealing\n",
    "    f_besto: `float` The value of the best solution found\n",
    "    g_besto: `float` The weight of the best solution found\n",
    "    \"\"\"\n",
    "    p = [_[0] for _ in items]\n",
    "    x = initial_sol(N,items, c)\n",
    "    fx = f(x, p)\n",
    "    t = ti\n",
    "    x_besto = x.copy()\n",
    "    f_besto = fx\n",
    "    print(\"Initial sol: \", x, fx)\n",
    "    while t >= tf:\n",
    "        x_current = random.choice(generate_neighborhood(x, c, items))\n",
    "        f_current = f(x_current, p)\n",
    "    \n",
    "        if f_current >= f_besto:\n",
    "            x_besto = x_current.copy()\n",
    "            f_besto = f_current\n",
    "\n",
    "        if f_current < fx or np.random.random() < math.exp(-1.*(f_current - fx)/t):\n",
    "            x = x_current\n",
    "            fx = f_current\n",
    "    \n",
    "        t = T(t)\n",
    "    return (get_items(x_besto), x_besto, f_besto, g(x_besto, [_[1] for _ in items]))"
   ],
   "cell_type": "code",
   "metadata": {},
   "execution_count": 11,
   "outputs": []
  },
  {
   "source": [
    "Esta fue la primera implementación que intenté"
   ],
   "cell_type": "markdown",
   "metadata": {}
  },
  {
   "cell_type": "code",
   "execution_count": 12,
   "metadata": {
    "tags": []
   },
   "outputs": [],
   "source": [
    "# evaluar valor de la mochila en lugar de los pesos porque esos ya los tengo\n",
    "# besto_sol = initial_sol(N, items, c)\n",
    "# besto_sols = [besto_sol]\n",
    "# T0 = ti\n",
    "# t = 0\n",
    "# p = [_[0] for _ in items]\n",
    "# while T0 >= tf:\n",
    "#     neighborhood = generate_neighborhood(besto_sol, c, items)\n",
    "#     choose_one = random.choice(neighborhood)\n",
    "\n",
    "#     f_random = f(choose_one, p)\n",
    "#     f_besto = f(besto_sol, p)\n",
    "\n",
    "\n",
    "#     if f_random >= f_besto:\n",
    "#         besto_sol = copy.copy(choose_one)\n",
    "#         besto_sols.append(besto_sol)\n",
    "\n",
    "#     else:\n",
    "#         numero_random = np.random.random() \n",
    "#         e = math.exp(-1.*((f_random - f_besto)/T0))\n",
    "#         print(e)\n",
    "#         if numero_random < e:\n",
    "#             besto_sol = choose_one\n",
    "#             besto_sols.append(besto_sol)\n",
    "    \n",
    "#     t += 1\n",
    "#     T0 = T(T0)"
   ]
  },
  {
   "cell_type": "code",
   "execution_count": 13,
   "metadata": {},
   "outputs": [],
   "source": [
    "ti,tf,N,c,items = read_input('input.txt')"
   ]
  },
  {
   "cell_type": "code",
   "execution_count": 14,
   "metadata": {},
   "outputs": [
    {
     "output_type": "stream",
     "name": "stdout",
     "text": [
      "Initial sol:  [1, 1, 1, 0, 0] 26.0\n"
     ]
    },
    {
     "output_type": "execute_result",
     "data": {
      "text/plain": [
       "([0, 1, 4], [1, 1, 0, 0, 1], 42.0, 15.0)"
      ]
     },
     "metadata": {},
     "execution_count": 14
    }
   ],
   "source": [
    " recocido_simulado(*read_input('input.txt'))"
   ]
  },
  {
   "cell_type": "code",
   "execution_count": 15,
   "metadata": {},
   "outputs": [
    {
     "output_type": "stream",
     "name": "stdout",
     "text": [
      "Initial sol:  [0, 0, 1, 1, 0] 9.0\n"
     ]
    },
    {
     "output_type": "execute_result",
     "data": {
      "text/plain": [
       "([0, 1, 4], [1, 1, 0, 0, 1], 42.0, 15.0)"
      ]
     },
     "metadata": {},
     "execution_count": 15
    }
   ],
   "source": [
    "mochila, sol, f_sol, g_sol = recocido_simulado(*read_input('input.txt')) ;mochila, sol, f_sol,g_sol"
   ]
  },
  {
   "source": [
    "## Parte 2"
   ],
   "cell_type": "markdown",
   "metadata": {}
  },
  {
   "cell_type": "code",
   "execution_count": 16,
   "metadata": {},
   "outputs": [],
   "source": [
    "def satatistical(M: int, filename : str = 'input.txt'):\n",
    "    \"\"\"\n",
    "    Function to make an statistical analysis of simulated annealing and prints \n",
    "\n",
    "    Parameters\n",
    "    ------------\n",
    "    M        : `int` The number of iterations to run the simulated annealing\n",
    "    filename : `str` The absolute path or relative path to the file with the input\n",
    "\n",
    "    Returns\n",
    "    ------------\n",
    "    `None`\n",
    "    \"\"\"\n",
    "    args = read_input(filename)\n",
    "    \n",
    "    sols = []\n",
    "    besto_sol = [[],[], 0, 0]\n",
    "    worst_sol = [[], np.inf ,np.inf]\n",
    "    f_values = []\n",
    "    g_values = []\n",
    "    for _ in range(M):\n",
    "        mochila, sol, f_sol, g_sol = recocido_simulado(*args)\n",
    "        if f_sol < worst_sol[2]:\n",
    "            worst_sol = [mochila, sol, f_sol, g_sol]\n",
    "        elif f_sol > besto_sol[2]:\n",
    "            besto_sol = [mochila,sol, f_sol, g_sol]\n",
    "\n",
    "        sols.append([mochila, sol, f_sol, g_sol])\n",
    "        f_values.append(f_sol)\n",
    "        g_values.append(g_sol)\n",
    "    \n",
    "    print(f\"Mejor solucion: {besto_sol}\")\n",
    "    print(f\"Peor solucion: {worst_sol}\")\n",
    "    promedio_f = sum(f_values)/len(f_values)\n",
    "    promedio_g = sum(g_values)/len(g_values)\n",
    "    print(f\"Promedio del valor de la mochila: {promedio_f}\")\n",
    "    print(f\"Promedio del peso de la mochila:  {promedio_g}\")\n",
    "    print(f\"Desviacion estandar de f: {std(f_values, promedio_f)}\")\n",
    "    print(f\"Desviacion estandar de g: {std(g_values, promedio_g)}\")\n",
    "    # return besto_sol, worst_sol, sols"
   ]
  },
  {
   "cell_type": "code",
   "execution_count": 17,
   "metadata": {},
   "outputs": [
    {
     "output_type": "stream",
     "name": "stdout",
     "text": [
      "Initial sol:  [1, 0, 1, 1, 0] 14.0\nInitial sol:  [1, 1, 0, 1, 0] 21.0\nInitial sol:  [0, 0, 1, 1, 0] 9.0\nInitial sol:  [0, 1, 1, 0, 0] 21.0\nInitial sol:  [1, 1, 1, 0, 0] 26.0\nInitial sol:  [0, 1, 0, 0, 0] 14.0\nInitial sol:  [0, 1, 1, 0, 0] 21.0\nInitial sol:  [0, 1, 0, 0, 0] 14.0\nInitial sol:  [1, 1, 1, 0, 0] 26.0\nInitial sol:  [0, 1, 1, 0, 0] 21.0\nMejor solucion: [[0, 1, 4], [1, 1, 0, 0, 1], 42.0, 15.0]\nPeor solucion: [[0, 1, 2], [1, 1, 1, 0, 0], 26.0, 12.0]\nPromedio del valor de la mochila: 38.0\nPromedio del peso de la mochila: 14.0\nDesviacion estandar de f: 5.848076606885378\nDesviacion estandar de g:1.2649110640673518\n"
     ]
    }
   ],
   "source": [
    "satatistical(10)"
   ]
  },
  {
   "cell_type": "code",
   "execution_count": null,
   "metadata": {},
   "outputs": [],
   "source": []
  }
 ]
}