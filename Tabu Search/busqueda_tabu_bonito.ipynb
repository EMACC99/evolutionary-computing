{
 "metadata": {
  "language_info": {
   "codemirror_mode": {
    "name": "ipython",
    "version": 3
   },
   "file_extension": ".py",
   "mimetype": "text/x-python",
   "name": "python",
   "nbconvert_exporter": "python",
   "pygments_lexer": "ipython3",
   "version": "3.7.4-final"
  },
  "orig_nbformat": 2,
  "kernelspec": {
   "name": "python3",
   "display_name": "Python 3.7.4 64-bit (conda)",
   "metadata": {
    "interpreter": {
     "hash": "b3ba2566441a7c06988d0923437866b63cedc61552a5af99d1f4fb67d367b25f"
    }
   }
  }
 },
 "nbformat": 4,
 "nbformat_minor": 2,
 "cells": [
  {
   "source": [
    "# Partica de Busqueda Tabu\n",
    "## Eduardo Manuel Ceja Cruz\n",
    "\n",
    "## Parte 1"
   ],
   "cell_type": "markdown",
   "metadata": {}
  },
  {
   "cell_type": "code",
   "execution_count": 1,
   "metadata": {},
   "outputs": [],
   "source": [
    "import numpy as np\n",
    "import copy\n",
    "import random\n",
    "from typing import Tuple"
   ]
  },
  {
   "cell_type": "code",
   "execution_count": 39,
   "metadata": {},
   "outputs": [],
   "source": [
    "def std(M_sols : list, mean : float) -> float:\n",
    "    \"\"\"\n",
    "    Population Standard Deviation\n",
    "\n",
    "    Paramenteres\n",
    "    ------------\n",
    "    M_sols: `list`.\n",
    "    The list of solutions\n",
    "\n",
    "    mean: `float`.\n",
    "    The population mean\n",
    "\n",
    "    Returns\n",
    "    ------------\n",
    "    `float`.\n",
    "    The value of the population standad Deviation\n",
    "\n",
    "    \"\"\"\n",
    "    return np.sqrt(sum([(sol_i[1] - mean)**2 for sol_i in M_sols])/len(M_sols))"
   ]
  },
  {
   "source": [
    "def get_median(M_sols: list):\n",
    "    \"\"\"\n",
    "    Gets the midvalue of the solutions.\n",
    "\n",
    "    Parameters\n",
    "    ------------\n",
    "    M_sols: `list`.\n",
    "    The list of solutions to get the median from\n",
    "\n",
    "    Returns\n",
    "    ------------\n",
    "    `list`.\n",
    "    The value or values \n",
    "    \"\"\"\n",
    "    if len(M_sols)%2==0:\n",
    "        indexes = (int(len(M_sols)/2), (int(len(M_sols)/2) +1))\n",
    "        return M_sols[indexes[0]], M_sols[indexes[1]]\n",
    "    else:\n",
    "        indexes = len(M_sols)//2\n",
    "        return M_sols[indexes]"
   ],
   "cell_type": "code",
   "metadata": {},
   "execution_count": 19,
   "outputs": []
  },
  {
   "cell_type": "code",
   "execution_count": 2,
   "metadata": {},
   "outputs": [],
   "source": [
    "def read_input(filename: str) -> Tuple[int, int, list]:\n",
    "    \"\"\"\n",
    "    Read input from file\n",
    "\n",
    "    Parameters\n",
    "    ------------\n",
    "    filename: `str`.\n",
    "    The relative or absolute path of the file to read\n",
    "\n",
    "    Returns\n",
    "    ------------\n",
    "    n: `int`.\n",
    "    Number of cities\n",
    "    i_max: `int`.\n",
    "    Maximum number of iterations\n",
    "    costos: `list`.\n",
    "    A tringular matrix of the costs. This is the one used to generate the adjacency matrix\n",
    "\n",
    "    Raises\n",
    "    ------------\n",
    "    FileNotFoundError\n",
    "    The specified file is not found\n",
    "    \"\"\"\n",
    "    try:\n",
    "        with open(filename) as f:\n",
    "            contents = f.readlines()\n",
    "    except:\n",
    "        raise FileNotFoundError\n",
    "\n",
    "    n = int(contents.pop(0))\n",
    "    i_max = int(contents.pop(0))\n",
    "    costos = []\n",
    "    for city in contents:\n",
    "        costos_ni = list(map(int,city.split()))\n",
    "        costos.append(costos_ni)\n",
    "    costos.append([])\n",
    "    return n,i_max,costos"
   ]
  },
  {
   "cell_type": "code",
   "execution_count": 3,
   "metadata": {},
   "outputs": [],
   "source": [
    "def get_cost(costo_ciudades : np.ndarray, camino : list) -> int:\n",
    "    \"\"\" \n",
    "    Returns cost of following the path provided\n",
    "\n",
    "    Parameters\n",
    "    ------------\n",
    "    costo_ciudades: `numpy.ndarray`\n",
    "    The adjacency matrix of cost.\n",
    "\n",
    "    camino: `list`\n",
    "    The path to follow.\n",
    "\n",
    "    Returns\n",
    "    ------------\n",
    "    costo: `int`\n",
    "    The cost of following the path given the adjacency matrix.\n",
    "    \"\"\"\n",
    "\n",
    "    costo = 0\n",
    "    camino = camino[1:] + [camino[0]]\n",
    "    for i in range(len(camino)):\n",
    "        costo += costo_ciudades[camino[i-1], camino[i]]\n",
    "    return costo"
   ]
  },
  {
   "cell_type": "code",
   "execution_count": 4,
   "metadata": {},
   "outputs": [],
   "source": [
    "def greedy_sol(costo_ciudades : np.ndarray) -> list:\n",
    "    \"\"\"\n",
    "    Generates the initial solution based on a geedy solution\n",
    "\n",
    "    Parameters\n",
    "    ------------\n",
    "    costo_ciudades: `numpy.ndarray`\n",
    "    The adjacency matrix of cost.\n",
    "\n",
    "    Returns\n",
    "    ------------\n",
    "    initial_sol: `list`\n",
    "    The greedy solution to be used as the initial solution\n",
    "    \"\"\"\n",
    "    costo = 0\n",
    "    initial_sol = [0] #empezamos en 0\n",
    "    costo_ciudades[:, 0] = np.inf # lo tachamos porque ya lo usamos\n",
    "    while(len(initial_sol) < len(costo_ciudades)):\n",
    "        min_travel_index = costo_ciudades[initial_sol[-1]].argmin()\n",
    "        initial_sol.append(min_travel_index)\n",
    "        costo_ciudades[:,min_travel_index] = np.inf\n",
    "\n",
    "    return initial_sol"
   ]
  },
  {
   "cell_type": "code",
   "execution_count": 5,
   "metadata": {},
   "outputs": [],
   "source": [
    "def generate_neighborhood(permutation : list, tabu_list : dict) -> Tuple[int, list]:\n",
    "    \"\"\"\n",
    "    Generates the neighborhood based on a given permutation\n",
    "\n",
    "    Parameters\n",
    "    ------------\n",
    "    permutation: `list`\n",
    "    The path to follow\n",
    "\n",
    "    tabu_list: `dict`\n",
    "    The tabu list\n",
    "\n",
    "    Returns\n",
    "    ------------\n",
    "    permutation[random_index] (city): `int`\n",
    "    neighborhood: `list`\n",
    "    \"\"\"\n",
    "\n",
    "    ### hay que quitar el 0!!!, porque es tu ciudad inicial, por eso son n-2\n",
    "    neighborhood = []\n",
    "    permutation = permutation[1:]\n",
    "    random_index = random.randint(0, len(permutation)-1)\n",
    "    while len(tabu_list) > 0 and permutation[random_index] in tabu_list:\n",
    "        random_index = random.randint(0, len(permutation)-1)\n",
    "\n",
    "    for i in range(len(permutation)):\n",
    "        permutation_aux = copy.copy(permutation)\n",
    "        if i == random_index:\n",
    "            continue\n",
    "        # print(permutation_aux)\n",
    "        permutation_aux[i], permutation_aux[random_index] = permutation_aux[random_index], permutation_aux[i]\n",
    "        # print(permutation_aux)\n",
    "        permutation_aux = [0] + permutation_aux\n",
    "        neighborhood.append(permutation_aux)\n",
    "\n",
    "    return permutation[random_index], neighborhood"
   ]
  },
  {
   "cell_type": "code",
   "execution_count": 6,
   "metadata": {},
   "outputs": [],
   "source": [
    "def update_tabu_list(tabu_list: dict, N: int, item = None) -> dict:\n",
    "    \"\"\"\n",
    "    Updates time value, add items to the list and remove them if necessary\n",
    "\n",
    "    Parameters\n",
    "    ------------\n",
    "    tabu_list: `dict`\n",
    "    The tabu list\n",
    "\n",
    "    N: `int`\n",
    "    The number of cities, used to calculate the time using `N//2`\n",
    "\n",
    "    item:\n",
    "    the item to introduce to the tabu list\n",
    "\n",
    "    Returns\n",
    "    ------------\n",
    "    tabu_list: `dict`.\n",
    "    The updated tabu list with new \n",
    "    \"\"\"\n",
    "    keys_to_pop = []\n",
    "    if len(tabu_list)  > 0:\n",
    "        for k in tabu_list.keys():\n",
    "            if tabu_list[k] == 0:\n",
    "                keys_to_pop.append(k)\n",
    "                continue\n",
    "            tabu_list[k] -= 1\n",
    "    if len(keys_to_pop) > 0:\n",
    "        for k in keys_to_pop:\n",
    "            tabu_list.pop(k)\n",
    "        \n",
    "    if item is not None:\n",
    "        time = N//2\n",
    "        tabu_list[item] = time\n",
    "\n",
    "    return tabu_list"
   ]
  },
  {
   "cell_type": "code",
   "execution_count": 7,
   "metadata": {},
   "outputs": [],
   "source": [
    "def tabu_search(matrix : np.ndarray, i_max : int = 100, return_candidate_sols = False) -> tuple:\n",
    "    \"\"\"\n",
    "    The function to perfom tha tebu search. It begins with a greedy solution and then moves forward\n",
    "\n",
    "    Parameters\n",
    "    ------------\n",
    "    i_max: `int` default = 100.\n",
    "    the maximum number of iterations for the tabu search\n",
    "\n",
    "    return_candidate_sols: `bool` default = False.\n",
    "    Flag to return `candidate_sols`\n",
    "\n",
    "    matrix: `numpy.ndarray`.\n",
    "    The adjacency matrix with costs of the cities\n",
    "    Returns\n",
    "    ------------\n",
    "    besto_sol: `tuple`.\n",
    "    The best solution found by the search\n",
    "\n",
    "    k_besto: `int`.\n",
    "    Iteration where `best_sol` was founded\n",
    "\n",
    "    candidate_sols: `list`\n",
    "    The list of the best solution of each neighborhood, only returns when `return_candidate_sols = True`\n",
    "    \"\"\"\n",
    "    tabu_list = {}\n",
    "    besto_sol = (init_sol,get_cost(matrix,init_sol))\n",
    "    candidate_sols = [besto_sol]\n",
    "    listas_tabu = [tabu_list]\n",
    "    besto_local_sol = besto_sol\n",
    "\n",
    "    k = 0\n",
    "    k_besto = k\n",
    "    while k < i_max:\n",
    "        k += 1\n",
    "        neighborhood_w_cost = []\n",
    "        city, neighborhood = generate_neighborhood(besto_local_sol[0], tabu_list)\n",
    "        for n in neighborhood:\n",
    "            neighborhood_w_cost.append((n, get_cost(matrix, n)))\n",
    "\n",
    "        besto_local_sol = sorted(neighborhood_w_cost, key = lambda x : x[1])[0]\n",
    "        candidate_sols.append(besto_local_sol)\n",
    "\n",
    "        if besto_local_sol[1] < besto_sol[1]:\n",
    "            besto_sol = besto_local_sol\n",
    "            k_besto = k        \n",
    "        tabu_list = update_tabu_list(tabu_list, N = 10, item = city)\n",
    "        listas_tabu.append(tabu_list)\n",
    "    \n",
    "    if return_candidate_sols:\n",
    "        return besto_sol, k_besto, candidate_sols\n",
    "    else:\n",
    "        return besto_sol, k_besto\n"
   ]
  },
  {
   "cell_type": "code",
   "execution_count": 8,
   "metadata": {},
   "outputs": [],
   "source": [
    "n,i_max,costos = read_input('input.txt')"
   ]
  },
  {
   "cell_type": "code",
   "execution_count": 11,
   "metadata": {},
   "outputs": [],
   "source": [
    "matrix = np.diag([np.inf] * n)"
   ]
  },
  {
   "cell_type": "code",
   "execution_count": 12,
   "metadata": {},
   "outputs": [],
   "source": [
    "for i in range(n):\n",
    "    matrix[i,i+1:] = costos[i]"
   ]
  },
  {
   "cell_type": "code",
   "execution_count": 13,
   "metadata": {},
   "outputs": [
    {
     "output_type": "execute_result",
     "data": {
      "text/plain": [
       "array([[inf, 49., 30., 53., 72., 19., 76., 87., 45., 48.],\n",
       "       [49., inf, 19., 38., 32., 31., 75., 69., 61., 25.],\n",
       "       [30., 19., inf, 41., 98., 56.,  6.,  6., 45., 53.],\n",
       "       [53., 38., 41., inf, 52., 29., 46., 90., 23., 98.],\n",
       "       [72., 32., 98., 52., inf, 63., 90., 69., 50., 82.],\n",
       "       [19., 31., 56., 29., 63., inf, 60., 88., 41., 95.],\n",
       "       [76., 75.,  6., 46., 90., 60., inf, 61., 92., 10.],\n",
       "       [87., 69.,  6., 90., 69., 88., 61., inf, 82., 73.],\n",
       "       [45., 61., 45., 23., 50., 41., 92., 82., inf,  5.],\n",
       "       [48., 25., 53., 98., 82., 95., 10., 73.,  5., inf]])"
      ]
     },
     "metadata": {},
     "execution_count": 13
    }
   ],
   "source": [
    "matrix = np.where(matrix,matrix,matrix.T); matrix"
   ]
  },
  {
   "cell_type": "code",
   "execution_count": 14,
   "metadata": {},
   "outputs": [
    {
     "output_type": "execute_result",
     "data": {
      "text/plain": [
       "[0, 5, 3, 8, 9, 6, 2, 7, 1, 4]"
      ]
     },
     "metadata": {},
     "execution_count": 14
    }
   ],
   "source": [
    "init_sol = greedy_sol(copy.copy(matrix)); init_sol"
   ]
  },
  {
   "cell_type": "code",
   "execution_count": 15,
   "metadata": {},
   "outputs": [],
   "source": [
    "besto_sol, k_besto, candidate_sols = tabu_search(matrix,return_candidate_sols = True) "
   ]
  },
  {
   "cell_type": "code",
   "execution_count": 16,
   "metadata": {},
   "outputs": [
    {
     "output_type": "execute_result",
     "data": {
      "text/plain": [
       "([0, 5, 3, 8, 9, 6, 2, 7, 4, 1], 248.0)"
      ]
     },
     "metadata": {},
     "execution_count": 16
    }
   ],
   "source": [
    "besto_sol"
   ]
  },
  {
   "cell_type": "code",
   "execution_count": 17,
   "metadata": {},
   "outputs": [
    {
     "output_type": "execute_result",
     "data": {
      "text/plain": [
       "1"
      ]
     },
     "metadata": {},
     "execution_count": 17
    }
   ],
   "source": [
    "k_besto"
   ]
  },
  {
   "cell_type": "code",
   "execution_count": 18,
   "metadata": {},
   "outputs": [
    {
     "output_type": "execute_result",
     "data": {
      "text/plain": [
       "[([0, 5, 3, 8, 9, 6, 2, 7, 1, 4], 271.0),\n",
       " ([0, 5, 3, 8, 9, 6, 2, 7, 4, 1], 248.0),\n",
       " ([0, 5, 3, 1, 9, 6, 2, 7, 4, 8], 297.0),\n",
       " ([0, 5, 3, 7, 9, 6, 2, 1, 4, 8], 373.0),\n",
       " ([0, 5, 4, 7, 9, 6, 2, 1, 3, 8], 365.0),\n",
       " ([0, 8, 4, 7, 9, 6, 2, 1, 3, 5], 358.0),\n",
       " ([0, 8, 3, 7, 9, 6, 2, 1, 4, 5], 380.0),\n",
       " ([0, 8, 3, 7, 2, 6, 9, 1, 4, 5], 319.0),\n",
       " ([0, 8, 3, 6, 2, 7, 9, 1, 4, 5], 338.0),\n",
       " ([0, 5, 3, 6, 2, 7, 9, 1, 4, 8], 331.0),\n",
       " ([0, 5, 3, 7, 2, 6, 9, 1, 4, 8], 312.0),\n",
       " ([0, 5, 3, 2, 7, 6, 9, 1, 4, 8], 318.0),\n",
       " ([0, 5, 3, 2, 7, 6, 4, 1, 9, 8], 353.0),\n",
       " ([0, 4, 3, 2, 7, 6, 5, 1, 9, 8], 398.0),\n",
       " ([0, 4, 3, 2, 7, 1, 5, 6, 9, 8], 391.0),\n",
       " ([0, 4, 3, 2, 7, 1, 9, 6, 5, 8], 421.0),\n",
       " ([0, 4, 7, 2, 3, 1, 9, 6, 5, 8], 407.0),\n",
       " ([0, 4, 7, 2, 3, 6, 9, 1, 5, 8], 386.0),\n",
       " ([0, 2, 7, 4, 3, 6, 9, 1, 5, 8], 355.0),\n",
       " ([0, 2, 3, 4, 7, 6, 9, 1, 5, 8], 405.0),\n",
       " ([0, 4, 3, 2, 7, 6, 9, 1, 5, 8], 384.0),\n",
       " ([0, 4, 3, 2, 7, 6, 9, 8, 5, 1], 368.0),\n",
       " ([0, 4, 1, 2, 7, 6, 9, 8, 5, 3], 328.0),\n",
       " ([0, 9, 1, 2, 7, 6, 4, 8, 5, 3], 422.0),\n",
       " ([0, 9, 6, 2, 7, 1, 4, 8, 5, 3], 344.0),\n",
       " ([0, 9, 6, 7, 2, 1, 4, 8, 5, 3], 349.0),\n",
       " ([0, 9, 6, 7, 2, 1, 4, 8, 3, 5], 297.0),\n",
       " ([0, 9, 6, 2, 7, 1, 4, 8, 3, 5], 292.0),\n",
       " ([0, 9, 6, 2, 7, 1, 4, 5, 3, 8], 331.0),\n",
       " ([0, 9, 6, 2, 7, 4, 1, 5, 3, 8], 299.0),\n",
       " ([0, 2, 6, 9, 7, 4, 1, 5, 3, 8], 348.0),\n",
       " ([0, 2, 6, 9, 7, 4, 1, 8, 3, 5], 352.0),\n",
       " ([0, 2, 6, 9, 7, 1, 4, 8, 3, 5], 341.0),\n",
       " ([0, 2, 7, 9, 6, 1, 4, 8, 3, 5], 347.0),\n",
       " ([0, 9, 7, 2, 6, 1, 4, 8, 3, 5], 361.0),\n",
       " ([0, 9, 6, 2, 7, 1, 4, 8, 3, 5], 292.0),\n",
       " ([0, 9, 6, 2, 7, 1, 4, 5, 3, 8], 331.0),\n",
       " ([0, 9, 6, 2, 7, 4, 1, 5, 3, 8], 299.0),\n",
       " ([0, 9, 6, 2, 7, 4, 1, 5, 8, 3], 319.0),\n",
       " ([0, 5, 6, 2, 7, 4, 1, 9, 8, 3], 298.0),\n",
       " ([0, 5, 6, 2, 7, 4, 8, 9, 1, 3], 331.0),\n",
       " ([0, 5, 6, 2, 7, 3, 8, 9, 1, 4], 338.0),\n",
       " ([0, 5, 7, 2, 6, 3, 8, 9, 1, 4], 322.0),\n",
       " ([0, 5, 2, 7, 6, 3, 8, 9, 1, 4], 345.0),\n",
       " ([0, 6, 2, 7, 5, 3, 8, 9, 1, 4], 362.0),\n",
       " ([0, 7, 2, 6, 5, 3, 8, 9, 1, 4], 345.0),\n",
       " ([0, 7, 2, 6, 5, 3, 8, 4, 1, 9], 366.0),\n",
       " ([0, 7, 2, 6, 5, 3, 1, 4, 8, 9], 361.0),\n",
       " ([0, 7, 2, 6, 5, 3, 8, 4, 1, 9], 366.0),\n",
       " ([0, 7, 2, 6, 5, 3, 8, 9, 1, 4], 345.0),\n",
       " ([0, 2, 7, 6, 5, 3, 8, 9, 1, 4], 343.0),\n",
       " ([0, 7, 2, 6, 5, 3, 8, 9, 1, 4], 345.0),\n",
       " ([0, 7, 2, 6, 4, 3, 8, 9, 1, 5], 344.0),\n",
       " ([0, 6, 2, 7, 4, 3, 8, 9, 1, 5], 312.0),\n",
       " ([0, 1, 2, 7, 4, 3, 8, 9, 6, 5], 312.0),\n",
       " ([0, 3, 2, 7, 4, 1, 8, 9, 6, 5], 356.0),\n",
       " ([0, 3, 2, 7, 1, 4, 8, 9, 6, 5], 345.0),\n",
       " ([0, 9, 2, 7, 1, 4, 8, 3, 6, 5], 406.0),\n",
       " ([0, 9, 7, 2, 1, 4, 8, 3, 6, 5], 376.0),\n",
       " ([0, 5, 7, 2, 1, 4, 8, 3, 6, 9], 341.0),\n",
       " ([0, 5, 7, 2, 1, 4, 6, 3, 8, 9], 376.0),\n",
       " ([0, 5, 7, 2, 1, 4, 8, 3, 6, 9], 341.0),\n",
       " ([0, 5, 1, 2, 7, 4, 8, 3, 6, 9], 321.0),\n",
       " ([0, 5, 1, 4, 7, 2, 8, 3, 6, 9], 329.0),\n",
       " ([0, 5, 1, 4, 7, 2, 8, 9, 6, 3], 316.0),\n",
       " ([0, 5, 1, 4, 7, 2, 8, 3, 6, 9], 329.0),\n",
       " ([0, 9, 1, 4, 7, 2, 8, 3, 6, 5], 373.0),\n",
       " ([0, 9, 1, 4, 7, 2, 6, 3, 8, 5], 315.0),\n",
       " ([0, 2, 1, 4, 7, 9, 6, 3, 8, 5], 362.0),\n",
       " ([0, 2, 1, 4, 7, 9, 8, 3, 6, 5], 376.0),\n",
       " ([0, 4, 1, 2, 7, 9, 8, 3, 6, 5], 355.0),\n",
       " ([0, 4, 7, 2, 1, 9, 8, 3, 6, 5], 344.0),\n",
       " ([0, 4, 7, 2, 1, 3, 8, 9, 6, 5], 321.0),\n",
       " ([0, 4, 1, 2, 7, 3, 8, 9, 6, 5], 336.0),\n",
       " ([0, 4, 1, 2, 7, 3, 6, 9, 8, 5], 340.0),\n",
       " ([0, 4, 1, 3, 7, 2, 6, 9, 8, 5], 319.0),\n",
       " ([0, 4, 1, 9, 7, 2, 6, 3, 8, 5], 343.0),\n",
       " ([0, 9, 1, 4, 7, 2, 6, 3, 8, 5], 315.0),\n",
       " ([0, 9, 8, 4, 7, 2, 6, 3, 1, 5], 318.0),\n",
       " ([0, 9, 1, 4, 7, 2, 6, 3, 8, 5], 315.0),\n",
       " ([0, 3, 1, 4, 7, 2, 6, 9, 8, 5], 279.0),\n",
       " ([0, 5, 1, 4, 7, 2, 6, 9, 8, 3], 254.0),\n",
       " ([0, 5, 7, 4, 1, 2, 6, 9, 8, 3], 324.0),\n",
       " ([0, 5, 7, 4, 1, 2, 6, 3, 8, 9], 355.0),\n",
       " ([0, 2, 7, 4, 1, 5, 6, 3, 8, 9], 350.0),\n",
       " ([0, 2, 7, 4, 1, 5, 8, 3, 6, 9], 336.0),\n",
       " ([0, 2, 7, 5, 1, 4, 8, 3, 6, 9], 364.0),\n",
       " ([0, 2, 7, 1, 5, 4, 8, 3, 6, 9], 376.0),\n",
       " ([0, 2, 7, 1, 5, 8, 4, 3, 6, 9], 383.0),\n",
       " ([0, 7, 2, 1, 5, 8, 4, 3, 6, 9], 390.0),\n",
       " ([0, 7, 2, 1, 9, 8, 4, 3, 6, 5], 369.0),\n",
       " ([0, 2, 7, 1, 9, 8, 4, 3, 6, 5], 362.0),\n",
       " ([0, 2, 7, 6, 9, 8, 4, 3, 1, 5], 302.0),\n",
       " ([0, 2, 7, 6, 9, 8, 3, 4, 1, 5], 269.0),\n",
       " ([0, 2, 7, 6, 9, 8, 4, 3, 1, 5], 302.0),\n",
       " ([0, 2, 7, 6, 9, 8, 4, 3, 5, 1], 323.0),\n",
       " ([0, 2, 7, 6, 9, 1, 4, 3, 5, 8], 331.0),\n",
       " ([0, 2, 7, 6, 9, 8, 4, 3, 5, 1], 323.0),\n",
       " ([0, 7, 2, 6, 9, 8, 4, 3, 5, 1], 325.0),\n",
       " ([0, 2, 7, 6, 9, 8, 4, 3, 5, 1], 323.0),\n",
       " ([0, 2, 7, 8, 9, 6, 4, 3, 5, 1], 384.0)]"
      ]
     },
     "metadata": {},
     "execution_count": 18
    }
   ],
   "source": [
    "candidate_sols"
   ]
  },
  {
   "source": [
    "## Parte 2"
   ],
   "cell_type": "markdown",
   "metadata": {}
  },
  {
   "cell_type": "code",
   "execution_count": 48,
   "metadata": {},
   "outputs": [],
   "source": [
    "def statistical_analysis(tabu_max_iters : int, M:int = 20, return_values = False, return_M_sols = False) -> tuple:\r\n",
    "    \"\"\"\r\n",
    "    Function to perform analysis on the results of the tabu search.\r\n",
    "\r\n",
    "    Parameters\r\n",
    "    ------------\r\n",
    "\r\n",
    "    tabu_max_iters: `int`\r\n",
    "    The max number of iterations fot the tabu search\r\n",
    "    \r\n",
    "    M: `int`\r\n",
    "    Max number of iteretations to run the tabu search\r\n",
    "\r\n",
    "    return_values: `boolean` default: `False`.\r\n",
    "    Flag to return the values, if set to `True`, it will not print nor calculate the mean,std and median\r\n",
    "\r\n",
    "    return_M_sols: `boolean` default:`False`.\r\n",
    "    Flag to return all the solutions founded in the `M` iterations\r\n",
    "\r\n",
    "    Returns\r\n",
    "    ------------\r\n",
    "    Prints the mean, std and the median as well as the best solution and worst solution of the `M` iters\r\n",
    "\r\n",
    "    if return_values is set to `True` a `tuple` that contains:\r\n",
    "\r\n",
    "    best_m_sol: `list`.\r\n",
    "    The best solution founded in the `M` iters\r\n",
    "\r\n",
    "    worst_m_sol: `list`.\r\n",
    "    The worst solution founded in the `M` iters\r\n",
    "\r\n",
    "    if return_M_sols is `True`, it will also return\r\n",
    "\r\n",
    "    M_sols: `list`.\r\n",
    "\r\n",
    "    The list of all the solutions founded\r\n",
    "\r\n",
    "    \"\"\"\r\n",
    "    worst_m_sol = [[],0]\r\n",
    "    best_m_sol = [[],np.inf]\r\n",
    "    M_sols = []\r\n",
    "    for _ in range(M):\r\n",
    "        besto_sol, k_besto = tabu_search(matrix, i_max = tabu_max_iters ,return_candidate_sols = False) \r\n",
    "        M_sols.append(besto_sol)\r\n",
    "        if besto_sol[1] > worst_m_sol[1]:\r\n",
    "            worst_m_sol = besto_sol\r\n",
    "        elif besto_sol[1] < best_m_sol[1]:\r\n",
    "            best_m_sol = besto_sol\r\n",
    "\r\n",
    "\r\n",
    "    values_to_return = tuple((best_m_sol, worst_m_sol))\r\n",
    "    if return_M_sols:\r\n",
    "        if not return_values:\r\n",
    "            return_values = True\r\n",
    "        values_to_return.append(M_sols)\r\n",
    "\r\n",
    "    if return_values:\r\n",
    "        return return_values\r\n",
    "    \r\n",
    "    mean = sum([M_i[1] for M_i in M_sols])/M \r\n",
    "    median = get_median(M_sols) \r\n",
    "    sigma = std(M_sols, mean)\r\n",
    "    print(f\"{M} iterations for {i_max} iterations of tabu search: \")\r\n",
    "    print(f\"Best solution: {best_m_sol}\")\r\n",
    "    print(f\"Worst solution: {worst_m_sol}\")\r\n",
    "    print(f\"Mean value of the objective function: {mean}\")\r\n",
    "    print(f\"Median solution(s): {median}\")\r\n",
    "    print(f\"The standard deviation: {sigma:.3f}\")\r\n"
   ]
  },
  {
   "cell_type": "code",
   "execution_count": 54,
   "metadata": {},
   "outputs": [
    {
     "output_type": "stream",
     "name": "stdout",
     "text": [
      "4 iterations for 100 iteratios of tabu search: \nBest solution: ([0, 5, 1, 4, 3, 8, 9, 6, 7, 2], 269.0)\nWorst solution: ([0, 5, 3, 8, 9, 6, 2, 7, 1, 4], 271.0)\nMean value of the objective function: 264.75\nMedian solution: (([0, 5, 3, 8, 9, 6, 2, 7, 1, 4], 271.0), ([0, 5, 1, 4, 3, 8, 9, 6, 7, 2], 269.0))\nThe standard deviation: 9.705024471890836\n"
     ]
    }
   ],
   "source": [
    "statistical_analysis(tabu_max_iters=i_max, M=4)"
   ]
  }
 ]
}